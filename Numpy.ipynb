{
 "cells": [
  {
   "cell_type": "markdown",
   "id": "ff9968d2",
   "metadata": {},
   "source": [
    "# Numpy\n",
    "### Numeric Python"
   ]
  },
  {
   "cell_type": "code",
   "execution_count": 1,
   "id": "d92ff689",
   "metadata": {},
   "outputs": [],
   "source": [
    "import numpy as np"
   ]
  },
  {
   "cell_type": "code",
   "execution_count": 3,
   "id": "cf4dc960",
   "metadata": {},
   "outputs": [
    {
     "data": {
      "text/plain": [
       "[1.73, 1.68, 1.71, 1.89]"
      ]
     },
     "execution_count": 3,
     "metadata": {},
     "output_type": "execute_result"
    }
   ],
   "source": [
    "height =[1.73, 1.68, 1.71, 1.89]   #create a list\n",
    "height"
   ]
  },
  {
   "cell_type": "code",
   "execution_count": 4,
   "id": "d07a8e4a",
   "metadata": {},
   "outputs": [
    {
     "data": {
      "text/plain": [
       "[65.4, 59.2, 63.6, 68.7]"
      ]
     },
     "execution_count": 4,
     "metadata": {},
     "output_type": "execute_result"
    }
   ],
   "source": [
    "weight = [65.4, 59.2, 63.6, 68.7] #create a list\n",
    "weight"
   ]
  },
  {
   "cell_type": "code",
   "execution_count": 8,
   "id": "57de5c56",
   "metadata": {},
   "outputs": [],
   "source": [
    "# You can't multiply lists, so you need Numpy to multiply arrays"
   ]
  },
  {
   "cell_type": "code",
   "execution_count": 5,
   "id": "9e501d4b",
   "metadata": {},
   "outputs": [
    {
     "data": {
      "text/plain": [
       "array([1.73, 1.68, 1.71, 1.89])"
      ]
     },
     "execution_count": 5,
     "metadata": {},
     "output_type": "execute_result"
    }
   ],
   "source": [
    "np_height = np.array(height)  #create a numpy array\n",
    "np_height"
   ]
  },
  {
   "cell_type": "code",
   "execution_count": 6,
   "id": "9c6804aa",
   "metadata": {},
   "outputs": [
    {
     "data": {
      "text/plain": [
       "array([65.4, 59.2, 63.6, 68.7])"
      ]
     },
     "execution_count": 6,
     "metadata": {},
     "output_type": "execute_result"
    }
   ],
   "source": [
    "np_weight = np.array(weight)\n",
    "np_weight"
   ]
  },
  {
   "cell_type": "code",
   "execution_count": 7,
   "id": "79da1eec",
   "metadata": {},
   "outputs": [
    {
     "data": {
      "text/plain": [
       "array([21.85171573, 20.97505669, 21.75028214, 19.23238431])"
      ]
     },
     "execution_count": 7,
     "metadata": {},
     "output_type": "execute_result"
    }
   ],
   "source": [
    "bmi = np_weight / np_height ** 2\n",
    "bmi"
   ]
  },
  {
   "cell_type": "code",
   "execution_count": 9,
   "id": "c9e78956",
   "metadata": {},
   "outputs": [
    {
     "data": {
      "text/plain": [
       "20.97505668934241"
      ]
     },
     "execution_count": 9,
     "metadata": {},
     "output_type": "execute_result"
    }
   ],
   "source": [
    "# to find out the second value in our bmi array\n",
    "bmi[1]"
   ]
  },
  {
   "cell_type": "code",
   "execution_count": 10,
   "id": "32d0bb10",
   "metadata": {},
   "outputs": [
    {
     "data": {
      "text/plain": [
       "array([21.85171573, 21.75028214])"
      ]
     },
     "execution_count": 10,
     "metadata": {},
     "output_type": "execute_result"
    }
   ],
   "source": [
    "# to find all values that are above 21\n",
    "bmi[bmi > 21]"
   ]
  },
  {
   "cell_type": "markdown",
   "id": "d4b2006d",
   "metadata": {},
   "source": [
    "# 2d Numpy Arrays\n",
    "#### a list of lists"
   ]
  },
  {
   "cell_type": "code",
   "execution_count": 2,
   "id": "97a27f10",
   "metadata": {},
   "outputs": [
    {
     "data": {
      "text/plain": [
       "array([[1, 3, 5, 7],\n",
       "       [5, 7, 9, 0]])"
      ]
     },
     "execution_count": 2,
     "metadata": {},
     "output_type": "execute_result"
    }
   ],
   "source": [
    "np_2d = np.array([[1, 3, 5, 7], [5,7,9,0]])\n",
    "np_2d"
   ]
  },
  {
   "cell_type": "code",
   "execution_count": 3,
   "id": "c66a688e",
   "metadata": {},
   "outputs": [
    {
     "data": {
      "text/plain": [
       "(2, 4)"
      ]
     },
     "execution_count": 3,
     "metadata": {},
     "output_type": "execute_result"
    }
   ],
   "source": [
    "np_2d.shape"
   ]
  },
  {
   "cell_type": "code",
   "execution_count": 4,
   "id": "ee49761b",
   "metadata": {},
   "outputs": [],
   "source": [
    "# 2 rows with 4 columns"
   ]
  },
  {
   "cell_type": "code",
   "execution_count": 5,
   "id": "8fb5c4e9",
   "metadata": {},
   "outputs": [
    {
     "data": {
      "text/plain": [
       "5"
      ]
     },
     "execution_count": 5,
     "metadata": {},
     "output_type": "execute_result"
    }
   ],
   "source": [
    "#to select one value, do row - and remember 0 , then column\n",
    "np_2d[0,2]"
   ]
  },
  {
   "cell_type": "code",
   "execution_count": 6,
   "id": "0af3f412",
   "metadata": {},
   "outputs": [
    {
     "data": {
      "text/plain": [
       "array([[3, 5],\n",
       "       [7, 9]])"
      ]
     },
     "execution_count": 6,
     "metadata": {},
     "output_type": "execute_result"
    }
   ],
   "source": [
    "#to select both rows and 2 columns - and remember the last value is not included\n",
    "np_2d[:, 1:3]"
   ]
  },
  {
   "cell_type": "code",
   "execution_count": null,
   "id": "7a2e3204",
   "metadata": {},
   "outputs": [],
   "source": []
  }
 ],
 "metadata": {
  "kernelspec": {
   "display_name": "Python 3 (ipykernel)",
   "language": "python",
   "name": "python3"
  },
  "language_info": {
   "codemirror_mode": {
    "name": "ipython",
    "version": 3
   },
   "file_extension": ".py",
   "mimetype": "text/x-python",
   "name": "python",
   "nbconvert_exporter": "python",
   "pygments_lexer": "ipython3",
   "version": "3.9.7"
  }
 },
 "nbformat": 4,
 "nbformat_minor": 5
}
